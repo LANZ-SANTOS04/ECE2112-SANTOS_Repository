{
 "cells": [
  {
   "cell_type": "markdown",
   "id": "7ceb2ec9-3242-46a0-9286-82f881b44114",
   "metadata": {},
   "source": [
    "ALPHABET SOUP PROBLEM: Create a function that takes a string and returns a string with its letters in alphabetical order."
   ]
  },
  {
   "cell_type": "markdown",
   "id": "4c59e950-8df2-4ae0-a25b-268b2000a1f8",
   "metadata": {},
   "source": [
    "i = input(\"Enter a word:\") #inputs the word to be sort\n",
    "\n",
    "def alphabet_word(text):     #defines the function\n",
    "    letters = list(text)     #turns the word into a list\n",
    "    letters.sort()           #sorts the list into alphabetical order\n",
    "    return \"\".join(letters)  #rejoins the string\n",
    "\n",
    "print (alphabet_word(i))     #prints the final output"
   ]
  },
  {
   "cell_type": "markdown",
   "id": "71f79a4f-9f11-4b5c-b296-435d5adeec4e",
   "metadata": {},
   "source": [
    "EMOTICON PROBLEM: Create a function that changes specific words into emoticons. Given a sentence as a string, replace the words smile, grin, sad and mad with their corresponding emoticon"
   ]
  },
  {
   "cell_type": "code",
   "execution_count": 6,
   "id": "6fbda70a-3083-4a69-a553-1b67127a09c3",
   "metadata": {},
   "outputs": [
    {
     "name": "stdin",
     "output_type": "stream",
     "text": [
      "Enter a sentence: make me smile\n",
      "Enter a sentence: make me mad\n",
      "Enter a sentence: make me sad\n",
      "Enter a sentence: make me grin\n"
     ]
    },
    {
     "name": "stdout",
     "output_type": "stream",
     "text": [
      "\n",
      "make me :)\n",
      "make me >:(\n",
      "make me :((\n",
      "make me :D\n"
     ]
    }
   ],
   "source": [
    "text1 = input(\"Enter a sentence:\") #inputs the sentence\n",
    "text2 = input(\"Enter a sentence:\")\n",
    "text3 = input(\"Enter a sentence:\")\n",
    "text4 = input(\"Enter a sentence:\")\n",
    "\n",
    "def emotify(sentence): #defines the function where word is replaced\n",
    "\n",
    "    sentence = sentence.replace (\"smile\", \":)\") #replaces the word to it's corresponding emoji\n",
    "    sentence = sentence.replace (\"grin\", \":D\")\n",
    "    sentence = sentence.replace (\"sad\", \":((\")\n",
    "    sentence = sentence.replace (\"mad\", \">:(\")\n",
    "    return sentence\n",
    "\n",
    "print (\"\")\n",
    "print (emotify(text1)) #prints the reworked sentence\n",
    "print (emotify(text2))\n",
    "print (emotify(text3))\n",
    "print (emotify(text4))"
   ]
  },
  {
   "cell_type": "markdown",
   "id": "bed97a9e-56b9-42c7-8f62-54ca96c16164",
   "metadata": {},
   "source": [
    "UNPACKING LIST PROBLEM: Unpack the list writeyourcodehere into three variables, being first, middle, and last, with middle being everything in between the first and last element. Then print all three variables."
   ]
  },
  {
   "cell_type": "code",
   "execution_count": 7,
   "id": "1fe07e6c-bff0-47d8-804f-ad55be304782",
   "metadata": {},
   "outputs": [
    {
     "name": "stdout",
     "output_type": "stream",
     "text": [
      "first: 1\n",
      "middle: [2, 3, 4, 5]\n",
      "last: 6\n"
     ]
    }
   ],
   "source": [
    "numbers = [1, 2, 3, 4, 5, 6] #list of numbers to be unpacked\n",
    "\n",
    "first, *middle, last = numbers #Unpack into first, middle, last\n",
    "\n",
    "print(\"first:\", first) #print results\n",
    "print(\"middle:\", middle)\n",
    "print(\"last:\", last)"
   ]
  },
  {
   "cell_type": "code",
   "execution_count": null,
   "id": "f7f9b88d-1d0a-49c2-a784-9aeca06db401",
   "metadata": {},
   "outputs": [],
   "source": []
  }
 ],
 "metadata": {
  "kernelspec": {
   "display_name": "Python [conda env:base] *",
   "language": "python",
   "name": "conda-base-py"
  },
  "language_info": {
   "codemirror_mode": {
    "name": "ipython",
    "version": 3
   },
   "file_extension": ".py",
   "mimetype": "text/x-python",
   "name": "python",
   "nbconvert_exporter": "python",
   "pygments_lexer": "ipython3",
   "version": "3.13.5"
  }
 },
 "nbformat": 4,
 "nbformat_minor": 5
}
